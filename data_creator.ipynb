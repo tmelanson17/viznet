{
 "cells": [
  {
   "cell_type": "code",
   "execution_count": 1,
   "metadata": {},
   "outputs": [
    {
     "data": {
      "image/png": "[encoded data removed]",
      "text/plain": [
       "<Figure size 432x288 with 1 Axes>"
      ]
     },
     "metadata": {},
     "output_type": "display_data"
    }
   ],
   "source": [
    "# Create the input\n",
    "import numpy as np\n",
    "import matplotlib.pyplot as plt\n",
    "import pickle\n",
    "\n",
    "% matplotlib inline\n",
    "\n",
    "x = np.random.random([200, 1000])\n",
    "\n",
    "fx = np.array([100*np.sin(x), 100*np.cos(x), np.square(x)*np.cos(x), 50*np.tanh(x)])\n",
    "weighted_sum = 3 * fx[0] + 1 * fx[1] - 6 * fx[2]  - 10 * fx[3]\n",
    "weighted_sum = np.sum(weighted_sum, axis=0)\n",
    "\n",
    "y = ((weighted_sum / 600 + 2)).astype(np.int)\n",
    "y = np.minimum(y, 4)\n",
    "y = np.maximum(y, 1) - 1\n",
    "plt.hist(y)\n",
    "y_one_hot = np.zeros([len(y), np.max(y)+1])\n",
    "y_one_hot[:, y] = 1\n"
   ]
  },
  {
   "cell_type": "code",
   "execution_count": 2,
   "metadata": {},
   "outputs": [],
   "source": [
    "pickle_out = {'data': x.T, 'label': y}\n",
    "pickle.dump(pickle_out, open('train.p', 'wb'))"
   ]
  },
  {
   "cell_type": "code",
   "execution_count": null,
   "metadata": {},
   "outputs": [],
   "source": []
  }
 ],
 "metadata": {
  "kernelspec": {
   "display_name": "Python 3",
   "language": "python",
   "name": "python3"
  },
  "language_info": {
   "codemirror_mode": {
    "name": "ipython",
    "version": 3
   },
   "file_extension": ".py",
   "mimetype": "text/x-python",
   "name": "python",
   "nbconvert_exporter": "python",
   "pygments_lexer": "ipython3",
   "version": "3.5.2"
  }
 },
 "nbformat": 4,
 "nbformat_minor": 2
}
