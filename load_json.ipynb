{
 "cells": [
  {
   "cell_type": "code",
   "execution_count": 1,
   "metadata": {},
   "outputs": [],
   "source": [
    "import json\n"
   ]
  },
  {
   "cell_type": "code",
   "execution_count": 2,
   "metadata": {},
   "outputs": [
    {
     "name": "stderr",
     "output_type": "stream",
     "text": [
      "/usr/local/lib/python3.5/dist-packages/h5py/__init__.py:36: FutureWarning: Conversion of the second argument of issubdtype from `float` to `np.floating` is deprecated. In future, it will be treated as `np.float64 == np.dtype(float).type`.\n",
      "  from ._conv import register_converters as _register_converters\n",
      "Using TensorFlow backend.\n"
     ]
    }
   ],
   "source": [
    "from sklearn.utils import shuffle\n",
    "import os\n",
    "import pickle\n",
    "import keras\n",
    "\n",
    "class DataGenerator(keras.utils.Sequence):\n",
    "    'Generates data for Keras'\n",
    "    def __init__(self, list_IDs, labels, batch_size=32, dim=(32,32,32), n_channels=1,\n",
    "                 n_classes=10, shuffle=True):\n",
    "        'Initialization'\n",
    "        self.dim = dim\n",
    "        self.batch_size = batch_size\n",
    "        self.labels = labels\n",
    "        self.list_IDs = list_IDs\n",
    "        self.n_channels = n_channels\n",
    "        self.n_classes = n_classes\n",
    "        self.shuffle = shuffle\n",
    "        self.on_epoch_end()\n",
    "\n",
    "    def __len__(self):\n",
    "        'Denotes the number of batches per epoch'\n",
    "        return int(np.floor(len(self.list_IDs) / self.batch_size))\n",
    "\n",
    "    def __getitem__(self, index):\n",
    "        'Generate one batch of data'\n",
    "        # Generate indexes of the batch\n",
    "        indexes = self.indexes[index*self.batch_size:(index+1)*self.batch_size]\n",
    "\n",
    "        # Find list of IDs\n",
    "        list_IDs_temp = [self.list_IDs[k] for k in indexes]\n",
    "\n",
    "        # Generate data\n",
    "        X, y = self.__data_generation(list_IDs_temp)\n",
    "\n",
    "        return X, y\n",
    "\n",
    "    def on_epoch_end(self):\n",
    "        'Updates indexes after each epoch'\n",
    "        self.indexes = np.arange(len(self.list_IDs))\n",
    "        if self.shuffle == True:\n",
    "            np.random.shuffle(self.indexes)\n",
    "\n",
    "    def __data_generation(self, list_IDs_temp):\n",
    "        'Generates data containing batch_size samples' # X : (n_samples, *dim, n_channels)\n",
    "        # Initialization\n",
    "        X = np.empty((self.batch_size, *self.dim, self.n_channels))\n",
    "        y = np.empty((self.batch_size), dtype=int)\n",
    "\n",
    "        # Generate data\n",
    "        for i, ID in enumerate(list_IDs_temp):\n",
    "            # Store sample\n",
    "            X[i,] = np.load('data/' + ID + '.npy')\n",
    "\n",
    "            # Store class\n",
    "            y[i] = self.labels[ID]\n",
    "\n",
    "        return X, keras.utils.to_categorical(y, num_classes=self.n_classes)"
   ]
  },
  {
   "cell_type": "code",
   "execution_count": 3,
   "metadata": {},
   "outputs": [],
   "source": [
    "from keras.layers import Dense, Conv2D, Dropout\n",
    "from keras.layers import Input   \n",
    "\n",
    "def load_dense(json_obj, inp_layer):\n",
    "    units = json_obj['units']\n",
    "    activation = json_obj.get('activation', None)\n",
    "    return Dense(units, activation=activation)(inp_layer)\n",
    "\n",
    "def initialize(input_shape):\n",
    "    return Input(shape=input_shape)"
   ]
  },
  {
   "cell_type": "code",
   "execution_count": 8,
   "metadata": {},
   "outputs": [],
   "source": [
    "import json\n",
    "\n",
    "json_network = json.load(open('first_network.json', 'r'))"
   ]
  },
  {
   "cell_type": "code",
   "execution_count": 4,
   "metadata": {},
   "outputs": [
    {
     "name": "stdout",
     "output_type": "stream",
     "text": [
      "[<tf.Tensor 'dense_1/Relu:0' shape=(?, 100) dtype=float32>, <tf.Tensor 'dense_2/Relu:0' shape=(?, 50) dtype=float32>, <tf.Tensor 'dense_3/Softmax:0' shape=(?, 4) dtype=float32>]\n",
      "Tensor(\"input_1:0\", shape=(?, 200), dtype=float32)\n",
      "Tensor(\"dense_3/Softmax:0\", shape=(?, 4), dtype=float32)\n"
     ]
    }
   ],
   "source": [
    "layers = list()\n",
    "inp_layer = initialize(json_network['input_shape'])\n",
    "\n",
    "for layer in json_network['layers']:\n",
    "    layer_in = layer['input']\n",
    "    if layer_in == 'in':\n",
    "        layers.append(load_dense(layer, inp_layer))\n",
    "        continue\n",
    "    layers.append(load_dense(layer, layers[layer_in]))\n",
    "    \n",
    "print(layers)\n",
    "print(inp_layer)\n",
    "print(layers[-1])"
   ]
  },
  {
   "cell_type": "code",
   "execution_count": 5,
   "metadata": {},
   "outputs": [
    {
     "name": "stdout",
     "output_type": "stream",
     "text": [
      "(1000, 200)\n"
     ]
    },
    {
     "data": {
      "text/plain": [
       "(array([161.,   0.,   0., 247.,   0.,   0., 312.,   0.,   0., 280.]),\n",
       " array([0. , 0.3, 0.6, 0.9, 1.2, 1.5, 1.8, 2.1, 2.4, 2.7, 3. ]),\n",
       " <a list of 10 Patch objects>)"
      ]
     },
     "execution_count": 5,
     "metadata": {},
     "output_type": "execute_result"
    },
    {
     "data": {
      "image/png": "[encoded data removed]",
      "text/plain": [
       "<Figure size 432x288 with 1 Axes>"
      ]
     },
     "metadata": {},
     "output_type": "display_data"
    }
   ],
   "source": [
    "import pickle\n",
    "from sklearn.model_selection import train_test_split\n",
    "\n",
    "import matplotlib.pyplot as plt\n",
    "\n",
    "% matplotlib inline\n",
    "\n",
    "\n",
    "data = pickle.load(open(json_network['dataset'], 'rb'))\n",
    "X_data = data['data']\n",
    "y_data = data['label']\n",
    "\n",
    "print(X_data.shape)\n",
    "plt.hist(y_data)"
   ]
  },
  {
   "cell_type": "code",
   "execution_count": 9,
   "metadata": {},
   "outputs": [
    {
     "name": "stdout",
     "output_type": "stream",
     "text": [
      "Train on 800 samples, validate on 200 samples\n",
      "Epoch 1/10\n",
      "800/800 [==============================] - 0s 252us/step - loss: 1.2565 - acc: 0.4388 - val_loss: 1.3698 - val_acc: 0.2800\n",
      "Epoch 2/10\n",
      "800/800 [==============================] - 0s 36us/step - loss: 1.2315 - acc: 0.4913 - val_loss: 1.3763 - val_acc: 0.2950\n",
      "Epoch 3/10\n",
      "800/800 [==============================] - 0s 41us/step - loss: 1.2176 - acc: 0.4713 - val_loss: 1.3760 - val_acc: 0.3100\n",
      "Epoch 4/10\n",
      "800/800 [==============================] - 0s 44us/step - loss: 1.2033 - acc: 0.5012 - val_loss: 1.3937 - val_acc: 0.3000\n",
      "Epoch 5/10\n",
      "800/800 [==============================] - 0s 38us/step - loss: 1.1817 - acc: 0.4962 - val_loss: 1.3930 - val_acc: 0.2950\n",
      "Epoch 6/10\n",
      "800/800 [==============================] - 0s 43us/step - loss: 1.1575 - acc: 0.5087 - val_loss: 1.3941 - val_acc: 0.3100\n",
      "Epoch 7/10\n",
      "800/800 [==============================] - 0s 42us/step - loss: 1.1449 - acc: 0.5363 - val_loss: 1.4106 - val_acc: 0.2700\n",
      "Epoch 8/10\n",
      "800/800 [==============================] - 0s 42us/step - loss: 1.1187 - acc: 0.5750 - val_loss: 1.4190 - val_acc: 0.2800\n",
      "Epoch 9/10\n",
      "800/800 [==============================] - 0s 41us/step - loss: 1.1018 - acc: 0.5375 - val_loss: 1.4422 - val_acc: 0.2650\n",
      "Epoch 10/10\n",
      "800/800 [==============================] - 0s 37us/step - loss: 1.0968 - acc: 0.5663 - val_loss: 1.4182 - val_acc: 0.2800\n"
     ]
    },
    {
     "data": {
      "text/plain": [
       "<keras.callbacks.History at 0x7fa098047a90>"
      ]
     },
     "execution_count": 9,
     "metadata": {},
     "output_type": "execute_result"
    }
   ],
   "source": [
    "from keras.models import Model\n",
    "\n",
    "model = Model(inp_layer, layers[-1])\n",
    "model.compile(json_network['optimizer'], json_network['loss'], metrics=['accuracy'])\n",
    "model.fit(X_data, y_data, batch_size=json_network['batch_size'], \n",
    "          epochs=json_network['epochs'], validation_split=json_network['split'],\n",
    "          shuffle=True)"
   ]
  },
  {
   "cell_type": "code",
   "execution_count": 10,
   "metadata": {},
   "outputs": [
    {
     "name": "stdout",
     "output_type": "stream",
     "text": [
      "[1 3]\n",
      "[[0.18006529 0.28861207 0.2784143  0.25290832]\n",
      " [0.06852186 0.30577177 0.1584787  0.4672276 ]]\n"
     ]
    }
   ],
   "source": [
    "sample = model.predict(X_data[5:7])\n",
    "print(y_data[5:7])\n",
    "print(sample)"
   ]
  },
  {
   "cell_type": "code",
   "execution_count": 57,
   "metadata": {},
   "outputs": [
    {
     "ename": "AttributeError",
     "evalue": "module 'pickle' has no attribute 'save'",
     "output_type": "error",
     "traceback": [
      "\u001b[0;31m---------------------------------------------------------------------------\u001b[0m",
      "\u001b[0;31mAttributeError\u001b[0m                            Traceback (most recent call last)",
      "\u001b[0;32m<ipython-input-57-8d368e1d7130>\u001b[0m in \u001b[0;36m<module>\u001b[0;34m()\u001b[0m\n\u001b[1;32m     20\u001b[0m \u001b[0;34m\u001b[0m\u001b[0m\n\u001b[1;32m     21\u001b[0m \u001b[0mpickle_out\u001b[0m \u001b[0;34m=\u001b[0m \u001b[0;34m{\u001b[0m\u001b[0;34m'data'\u001b[0m\u001b[0;34m:\u001b[0m \u001b[0mx\u001b[0m\u001b[0;34m,\u001b[0m \u001b[0;34m'label'\u001b[0m\u001b[0;34m:\u001b[0m \u001b[0my\u001b[0m\u001b[0;34m}\u001b[0m\u001b[0;34m\u001b[0m\u001b[0m\n\u001b[0;32m---> 22\u001b[0;31m \u001b[0mpickle\u001b[0m\u001b[0;34m.\u001b[0m\u001b[0msave\u001b[0m\u001b[0;34m(\u001b[0m\u001b[0;34m'train.p'\u001b[0m\u001b[0;34m,\u001b[0m \u001b[0mpickle_out\u001b[0m\u001b[0;34m)\u001b[0m\u001b[0;34m\u001b[0m\u001b[0m\n\u001b[0m",
      "\u001b[0;31mAttributeError\u001b[0m: module 'pickle' has no attribute 'save'"
     ]
    },
    {
     "data": {
      "image/png": "[encoded data removed]",
      "text/plain": [
       "<Figure size 432x288 with 1 Axes>"
      ]
     },
     "metadata": {},
     "output_type": "display_data"
    }
   ],
   "source": [
    "# Create the input\n",
    "import numpy as np\n",
    "import matplotlib.pyplot as plt\n",
    "import pickle\n",
    "\n",
    "% matplotlib inline\n",
    "\n",
    "x = np.random.random([200, 1000])\n",
    "\n",
    "fx = np.array([100*np.sin(x), 100*np.cos(x), np.square(x)*np.cos(x), 50*np.tanh(x)])\n",
    "weighted_sum = 3 * fx[0] + 1 * fx[1] - 6 * fx[2]  - 10 * fx[3]\n",
    "weighted_sum = np.sum(weighted_sum, axis=0)\n",
    "\n",
    "y = ((weighted_sum / 600 + 2)).astype(np.int)\n",
    "y = np.minimum(y, 4)\n",
    "y = np.maximum(y, 1) - 1\n",
    "plt.hist(y)\n",
    "y_one_hot = np.zeros([len(y), np.max(y)+1])\n",
    "y_one_hot[:, y] = 1\n"
   ]
  },
  {
   "cell_type": "code",
   "execution_count": 73,
   "metadata": {},
   "outputs": [],
   "source": [
    "pickle_out = {'data': x.T, 'label': y}\n",
    "pickle.dump(pickle_out, open('train.p', 'wb'))"
   ]
  },
  {
   "cell_type": "code",
   "execution_count": null,
   "metadata": {},
   "outputs": [],
   "source": []
  }
 ],
 "metadata": {
  "kernelspec": {
   "display_name": "Python 3",
   "language": "python",
   "name": "python3"
  },
  "language_info": {
   "codemirror_mode": {
    "name": "ipython",
    "version": 3
   },
   "file_extension": ".py",
   "mimetype": "text/x-python",
   "name": "python",
   "nbconvert_exporter": "python",
   "pygments_lexer": "ipython3",
   "version": "3.5.2"
  }
 },
 "nbformat": 4,
 "nbformat_minor": 2
}
